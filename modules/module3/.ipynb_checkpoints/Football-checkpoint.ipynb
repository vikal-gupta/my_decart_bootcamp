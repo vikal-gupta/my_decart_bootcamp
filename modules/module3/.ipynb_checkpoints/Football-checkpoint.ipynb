{
 "cells": [
  {
   "cell_type": "markdown",
   "metadata": {},
   "source": [
    "# Steelers, Cowboys, and Bears\n",
    "## Using Sets to Explore American Football Teams\n",
    "### How Many Players Have Been on Each Team?"
   ]
  },
  {
   "cell_type": "code",
   "execution_count": 2,
   "metadata": {
    "collapsed": true
   },
   "outputs": [],
   "source": [
    "%matplotlib inline\n",
    "# Python magic to display in the web browser"
   ]
  },
  {
   "cell_type": "code",
   "execution_count": 3,
   "metadata": {},
   "outputs": [
    {
     "name": "stdout",
     "output_type": "stream",
     "text": [
      "Collecting matplotlib_venn\n",
      "  Downloading matplotlib-venn-0.11.5.zip (40kB)\n",
      "\u001b[K    100% |████████████████████████████████| 40kB 271kB/s ta 0:00:01\n",
      "\u001b[?25hRequirement already satisfied: matplotlib in /opt/conda/lib/python3.5/site-packages (from matplotlib_venn)\n",
      "Requirement already satisfied: numpy in /opt/conda/lib/python3.5/site-packages (from matplotlib_venn)\n",
      "Requirement already satisfied: scipy in /opt/conda/lib/python3.5/site-packages (from matplotlib_venn)\n",
      "Requirement already satisfied: python-dateutil in /opt/conda/lib/python3.5/site-packages (from matplotlib->matplotlib_venn)\n",
      "Requirement already satisfied: pytz in /opt/conda/lib/python3.5/site-packages (from matplotlib->matplotlib_venn)\n",
      "Requirement already satisfied: cycler in /opt/conda/lib/python3.5/site-packages/cycler-0.10.0-py3.5.egg (from matplotlib->matplotlib_venn)\n",
      "Requirement already satisfied: pyparsing!=2.0.4,>=1.5.6 in /opt/conda/lib/python3.5/site-packages (from matplotlib->matplotlib_venn)\n",
      "Requirement already satisfied: six>=1.5 in /opt/conda/lib/python3.5/site-packages (from python-dateutil->matplotlib->matplotlib_venn)\n",
      "Building wheels for collected packages: matplotlib-venn\n",
      "  Running setup.py bdist_wheel for matplotlib-venn ... \u001b[?25ldone\n",
      "\u001b[?25h  Stored in directory: /home/jovyan/.cache/pip/wheels/de/15/3c/e0b896dc28942a0b44a954e78aefdba25748e65fde93f61ccb\n",
      "Successfully built matplotlib-venn\n",
      "Installing collected packages: matplotlib-venn\n",
      "Successfully installed matplotlib-venn-0.11.5\n"
     ]
    }
   ],
   "source": [
    "!pip install matplotlib_venn"
   ]
  },
  {
   "cell_type": "code",
   "execution_count": 6,
   "metadata": {},
   "outputs": [],
   "source": [
    "import pickle\n",
    "from matplotlib_venn import venn2_circles, venn2, venn3\n",
    "import matplotlib.pyplot as plt"
   ]
  },
  {
   "cell_type": "code",
   "execution_count": 7,
   "metadata": {},
   "outputs": [
    {
     "ename": "FileNotFoundError",
     "evalue": "[Errno 2] No such file or directory: './football.pickle'",
     "output_type": "error",
     "traceback": [
      "\u001b[0;31m---------------------------------------------------------------------------\u001b[0m",
      "\u001b[0;31mFileNotFoundError\u001b[0m                         Traceback (most recent call last)",
      "\u001b[0;32m<ipython-input-7-1bee07528192>\u001b[0m in \u001b[0;36m<module>\u001b[0;34m()\u001b[0m\n\u001b[0;32m----> 1\u001b[0;31m \u001b[0;32mwith\u001b[0m \u001b[0mopen\u001b[0m\u001b[0;34m(\u001b[0m\u001b[0;34m\"./football.pickle\"\u001b[0m\u001b[0;34m,\u001b[0m\u001b[0;34m\"rb\"\u001b[0m\u001b[0;34m)\u001b[0m \u001b[0;32mas\u001b[0m \u001b[0mf0\u001b[0m\u001b[0;34m:\u001b[0m\u001b[0;34m\u001b[0m\u001b[0m\n\u001b[0m\u001b[1;32m      2\u001b[0m     \u001b[0mteams\u001b[0m \u001b[0;34m=\u001b[0m \u001b[0mpickle\u001b[0m\u001b[0;34m.\u001b[0m\u001b[0mload\u001b[0m\u001b[0;34m(\u001b[0m\u001b[0mf0\u001b[0m\u001b[0;34m)\u001b[0m\u001b[0;34m\u001b[0m\u001b[0m\n",
      "\u001b[0;31mFileNotFoundError\u001b[0m: [Errno 2] No such file or directory: './football.pickle'"
     ]
    }
   ],
   "source": [
    "with open(\"./football.pickle\",\"rb\") as f0:\n",
    "    teams = pickle.load(f0)"
   ]
  },
  {
   "cell_type": "markdown",
   "metadata": {},
   "source": [
    "#### ``teams`` is a [dictionary](https://docs.python.org/3/tutorial/datastructures.html#dictionaries) with\n",
    "\n",
    "* **keys** equal to name of football teams\n",
    "* **values** equal to a [**list**](https://docs.python.org/3.4/tutorial/introduction.html#lists) of all the players that have played on those teams"
   ]
  },
  {
   "cell_type": "code",
   "execution_count": null,
   "metadata": {
    "collapsed": true
   },
   "outputs": [],
   "source": [
    "type(teams)"
   ]
  },
  {
   "cell_type": "code",
   "execution_count": null,
   "metadata": {
    "collapsed": true
   },
   "outputs": [],
   "source": [
    "teams.keys()"
   ]
  },
  {
   "cell_type": "code",
   "execution_count": null,
   "metadata": {
    "collapsed": true
   },
   "outputs": [],
   "source": [
    "type(teams['steelers'])"
   ]
  },
  {
   "cell_type": "markdown",
   "metadata": {},
   "source": [
    "### Let's look at the list of Steelers players"
   ]
  },
  {
   "cell_type": "markdown",
   "metadata": {},
   "source": [
    "### Size of a collection\n",
    "\n",
    "Every Python collection has a size (length) associated with it. This is a measure of how many objects are in the collection. This is accessed through the **``len()``** function. (Remember our definition of a function: it takes something in (in this case a collection) and returns something (in this case the length of the collection)."
   ]
  },
  {
   "cell_type": "code",
   "execution_count": null,
   "metadata": {
    "collapsed": true
   },
   "outputs": [],
   "source": [
    "print(len(teams))\n",
    "print(len(teams['steelers']))"
   ]
  },
  {
   "cell_type": "markdown",
   "metadata": {},
   "source": [
    "### We can create a **set** from the **list** of Steelers players\n",
    "\n",
    "#### Python has a ``set()`` function that takes another type of collection (e.g. a list) and creates a set"
   ]
  },
  {
   "cell_type": "code",
   "execution_count": null,
   "metadata": {
    "collapsed": true
   },
   "outputs": [],
   "source": [
    "steelers_set = set(teams['steelers'])\n",
    "len(steelers_set)"
   ]
  },
  {
   "cell_type": "markdown",
   "metadata": {},
   "source": [
    "### Why are the sizes (lengths) of the two sets different?\n",
    "\n",
    "* Lists do not have to have unique elements, but sets do (definition of a set). There are two names that two sets of players shared.\n",
    "\n",
    "#### Python Aside finding the duplicate players\n",
    "\n",
    "We're focusing on Python [**sets**](https://docs.python.org/3.4/tutorial/datastructures.html#sets), but here is a way to find the names using a Python [**Counter**](https://docs.python.org/3/library/collections.html#collections.Counter). Quite simply, Counters count things. They can then return the most commonly occuring items that they counted."
   ]
  },
  {
   "cell_type": "code",
   "execution_count": null,
   "metadata": {
    "collapsed": true
   },
   "outputs": [],
   "source": [
    "from collections import Counter\n",
    "\n",
    "steelers_count = Counter(teams['steelers'])\n",
    "steelers_count.most_common(10)"
   ]
  },
  {
   "cell_type": "markdown",
   "metadata": {},
   "source": [
    "#### So there have been two Ralph Wenzel (who would have thought!) and two Mike Adams (not so surprising). Or perhaps they were n the team at two seperate times."
   ]
  },
  {
   "cell_type": "markdown",
   "metadata": {},
   "source": [
    "### Now let's make sets for the other two teams"
   ]
  },
  {
   "cell_type": "code",
   "execution_count": null,
   "metadata": {
    "collapsed": true
   },
   "outputs": [],
   "source": [
    "bears_set = set(teams['bears'])\n",
    "cowboys_set = set(teams['cowboys'])\n",
    "\n",
    "len(bears_set),len(cowboys_set)"
   ]
  },
  {
   "cell_type": "markdown",
   "metadata": {},
   "source": [
    "### Let's look at the sets with a Venn diagram"
   ]
  },
  {
   "cell_type": "code",
   "execution_count": null,
   "metadata": {
    "collapsed": true
   },
   "outputs": [],
   "source": [
    "venn3([steelers_set, cowboys_set, bears_set],\n",
    "      (\"Steelers\",\"Cowboys\",\"Bears\"))"
   ]
  },
  {
   "cell_type": "markdown",
   "metadata": {},
   "source": [
    "### Anything Seem Suspicious About These Data?\n",
    "\n",
    "* The [Chicago Bears](https://en.wikipedia.org/wiki/Chicago_Bears) are a very old football team, dating back to 1919. Do we really believe that there have been eight times as many [Steelers](https://en.wikipedia.org/wiki/Pittsburgh_Steelers) (founded 1933) and over four times as many [Cowboys](https://en.wikipedia.org/wiki/Dallas_Cowboys) (founded 1960)?\n",
    "    * Maybe something problematic with our Wikipedia data? \n",
    "    * Check against another source?"
   ]
  },
  {
   "cell_type": "markdown",
   "metadata": {},
   "source": [
    "#### Which Steelers have also been Cowboys or Bears?\n",
    "\n",
    "This question involves \n",
    "\n",
    "* three sets (Steelers, Cowboys, and Bears)\n",
    "* two set operations\n",
    "    * \"have also been\" $\\rightarrow$ **AND** $\\rightarrow$ **INTERSECTION**\n",
    "    * \"or\" $\\rightarrow$ **UNION**\n",
    "\n",
    "##### We can write this out in set notation\n",
    "\n",
    "$ \\text{Steelers} \\cap (\\text{Cowboys} \\cup \\text{Bears})$"
   ]
  },
  {
   "cell_type": "code",
   "execution_count": null,
   "metadata": {
    "collapsed": true
   },
   "outputs": [],
   "source": [
    "steelers_on_other_teams = steelers_set.intersection(\n",
    "                               bears_set.union(cowboys_set))\n",
    "print(\"There have been %d Steelers that have played on other teams.\"\\\n",
    "      %len(steelers_on_other_teams))\n",
    "print(\"These Steelers are\")\n",
    "print(steelers_on_other_teams)\n"
   ]
  },
  {
   "cell_type": "markdown",
   "metadata": {},
   "source": [
    "####  What players have played on all three teams?\n",
    "\n",
    "This question involves three sets (Steelers, Cowboys, Bears) and two Set operations: **Intersection** and **Intersection.**\n",
    "\n",
    "##### Writing this in set notation\n",
    "\n",
    "$ \\text{Steelers} \\cap \\text{Cowboys} \\cap \\text{Bears}$\n"
   ]
  },
  {
   "cell_type": "code",
   "execution_count": null,
   "metadata": {
    "collapsed": true
   },
   "outputs": [],
   "source": [
    "steelers_set.intersection(bears_set.intersection(cowboys_set))"
   ]
  },
  {
   "cell_type": "markdown",
   "metadata": {},
   "source": [
    "#### Note that this is Consistent with the Venn diagram above"
   ]
  },
  {
   "cell_type": "code",
   "execution_count": null,
   "metadata": {
    "collapsed": true
   },
   "outputs": [],
   "source": []
  },
  {
   "cell_type": "code",
   "execution_count": null,
   "metadata": {
    "collapsed": true
   },
   "outputs": [],
   "source": []
  }
 ],
 "metadata": {
  "kernelspec": {
   "display_name": "Python 3",
   "language": "python",
   "name": "python3"
  },
  "language_info": {
   "codemirror_mode": {
    "name": "ipython",
    "version": 3
   },
   "file_extension": ".py",
   "mimetype": "text/x-python",
   "name": "python",
   "nbconvert_exporter": "python",
   "pygments_lexer": "ipython3",
   "version": "3.5.2"
  }
 },
 "nbformat": 4,
 "nbformat_minor": 1
}
